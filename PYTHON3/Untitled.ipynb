{
 "cells": [
  {
   "cell_type": "code",
   "execution_count": 5,
   "metadata": {},
   "outputs": [
    {
     "name": "stdout",
     "output_type": "stream",
     "text": [
      "程序自身在運行\n"
     ]
    }
   ],
   "source": [
    "if __name__ == '__main__':\n",
    "    print('程序自身在運行')\n",
    "else:\n",
    "    print('我來自另一模塊')\n",
    "    \n",
    "import fibo"
   ]
  },
  {
   "cell_type": "code",
   "execution_count": 1,
   "metadata": {},
   "outputs": [
    {
     "data": {
      "text/plain": [
       "['__builtins__',\n",
       " '__cached__',\n",
       " '__doc__',\n",
       " '__file__',\n",
       " '__loader__',\n",
       " '__name__',\n",
       " '__package__',\n",
       " '__spec__',\n",
       " 'fib1',\n",
       " 'fib2']"
      ]
     },
     "execution_count": 1,
     "metadata": {},
     "output_type": "execute_result"
    }
   ],
   "source": [
    "import \n",
    "dir(fibo)"
   ]
  },
  {
   "cell_type": "code",
   "execution_count": 20,
   "metadata": {},
   "outputs": [
    {
     "data": {
      "text/plain": [
       "'...: '"
      ]
     },
     "execution_count": 20,
     "metadata": {},
     "output_type": "execute_result"
    }
   ],
   "source": [
    "import sys\n",
    "sys.ps2"
   ]
  },
  {
   "cell_type": "code",
   "execution_count": 25,
   "metadata": {},
   "outputs": [
    {
     "data": {
      "text/plain": [
       "\"'hello world!'\""
      ]
     },
     "execution_count": 25,
     "metadata": {},
     "output_type": "execute_result"
    }
   ],
   "source": [
    "s='hello world!'\n",
    "str(s)"
   ]
  },
  {
   "cell_type": "code",
   "execution_count": 26,
   "metadata": {},
   "outputs": [
    {
     "data": {
      "text/plain": [
       "\"'hello world!'\""
      ]
     },
     "execution_count": 26,
     "metadata": {},
     "output_type": "execute_result"
    }
   ],
   "source": [
    "repr(s)"
   ]
  },
  {
   "cell_type": "code",
   "execution_count": 27,
   "metadata": {},
   "outputs": [
    {
     "data": {
      "text/plain": [
       "'0.3333333333333333'"
      ]
     },
     "execution_count": 27,
     "metadata": {},
     "output_type": "execute_result"
    }
   ],
   "source": [
    "str(1/3)"
   ]
  },
  {
   "cell_type": "code",
   "execution_count": 28,
   "metadata": {},
   "outputs": [
    {
     "data": {
      "text/plain": [
       "'0.3333333333333333'"
      ]
     },
     "execution_count": 28,
     "metadata": {},
     "output_type": "execute_result"
    }
   ],
   "source": [
    "repr(1/3)"
   ]
  },
  {
   "cell_type": "code",
   "execution_count": 38,
   "metadata": {},
   "outputs": [
    {
     "name": "stdout",
     "output_type": "stream",
     "text": [
      "x 的值為 20, y 的值為 715.8068799999999\n"
     ]
    }
   ],
   "source": [
    "x = 10*2\n",
    "y = 30.56*23.423\n",
    "s = 'x 的值為 ' + str(x) + ', y 的值為 ' + str(y)\n",
    "print(s)"
   ]
  },
  {
   "cell_type": "code",
   "execution_count": 48,
   "metadata": {},
   "outputs": [
    {
     "name": "stdout",
     "output_type": "stream",
     "text": [
      "hello, runoob\n",
      "\n",
      "'hello, runoob\\n'\n"
     ]
    },
    {
     "data": {
      "text/plain": [
       "\"('x 的值為 20, y 的值為 715.8068799999999', 'hello, runoob\\\\n', ('google', 'appple'))\""
      ]
     },
     "execution_count": 48,
     "metadata": {},
     "output_type": "execute_result"
    }
   ],
   "source": [
    "hello = 'hello, runoob\\n'\n",
    "print(hello)\n",
    "hellos = repr(hello)\n",
    "print(hellos)\n",
    "repr((s,hello,('google','appple')))"
   ]
  },
  {
   "cell_type": "code",
   "execution_count": 66,
   "metadata": {},
   "outputs": [
    {
     "name": "stdout",
     "output_type": "stream",
     "text": [
      " 1   1    1     1\n",
      " 2   4    8    16\n",
      " 3   9   27    81\n",
      " 4  16   64   256\n",
      " 5  25  125   625\n",
      " 6  36  216  1296\n",
      " 7  49  343  2401\n",
      " 8  64  512  4096\n",
      " 9  81  729  6561\n",
      "10 100 1000 10000\n"
     ]
    }
   ],
   "source": [
    "for x in range (1,11):\n",
    "    print(repr(x).rjust(2),repr(x*x).rjust(3),repr(x*x*x).rjust(4),repr(x*x*x*x).rjust(5))"
   ]
  },
  {
   "cell_type": "code",
   "execution_count": 68,
   "metadata": {},
   "outputs": [],
   "source": [
    "import math"
   ]
  },
  {
   "cell_type": "code",
   "execution_count": 122,
   "metadata": {},
   "outputs": [
    {
     "data": {
      "text/plain": [
       "'3.1415926'"
      ]
     },
     "execution_count": 122,
     "metadata": {},
     "output_type": "execute_result"
    }
   ],
   "source": [
    "'3.1415926'.zfill(5)"
   ]
  },
  {
   "cell_type": "code",
   "execution_count": 127,
   "metadata": {},
   "outputs": [
    {
     "name": "stdout",
     "output_type": "stream",
     "text": [
      "google 和 apple\n",
      "apple網址：apple.com.tw\n",
      "apple taiwan 網址：apple.com.tw\n"
     ]
    }
   ],
   "source": [
    "print('{} 和 {}'.format('google','apple'))\n",
    "print('{}網址：{}'.format('apple','apple.com.tw'))\n",
    "print('{name}網址：{website}'.format(name='apple taiwan ',website='apple.com.tw'))"
   ]
  },
  {
   "cell_type": "code",
   "execution_count": 130,
   "metadata": {},
   "outputs": [
    {
     "name": "stdout",
     "output_type": "stream",
     "text": [
      "3.141592653589793\n",
      "pi為：3.141592653589793\n",
      "pi取至小數點後四位為：3.1416\n"
     ]
    }
   ],
   "source": [
    "print(math.pi)\n",
    "print('pi為：{}'.format(math.pi))\n",
    "print('pi取至小數點後四位為：{0:.4f}'.format(math.pi))"
   ]
  },
  {
   "cell_type": "code",
   "execution_count": 191,
   "metadata": {},
   "outputs": [
    {
     "name": "stdout",
     "output_type": "stream",
     "text": [
      "jim          ==>     12312441241\n",
      "jason        ==>         2123123\n",
      "vbn753200    ==>               3\n"
     ]
    }
   ],
   "source": [
    "table = {'jim':12312441241, 'jason':2123123, 'vbn753200': 3}\n",
    "for name, number in table.items():\n",
    "        print('{0:12} ==> {1:15}'.format(name,number))"
   ]
  },
  {
   "cell_type": "code",
   "execution_count": 245,
   "metadata": {},
   "outputs": [
    {
     "name": "stdout",
     "output_type": "stream",
     "text": [
      "apple:  123; google:  112; taobao:  3124\n"
     ]
    }
   ],
   "source": [
    "table = {'Google': 112, 'apple': 123, 'taobao': 3124}\n",
    "print(\"apple: {0[apple]:4}; google: {0[Google]:4}; taobao: {0[taobao]:5}\".format(table))"
   ]
  },
  {
   "cell_type": "code",
   "execution_count": 250,
   "metadata": {},
   "outputs": [
    {
     "name": "stdout",
     "output_type": "stream",
     "text": [
      "pi(小數點後五位)=3.14159\n",
      "pi(小數點後五位)=3.14159\n"
     ]
    }
   ],
   "source": [
    "print('pi(小數點後五位)=%.5f'%math.pi)\n",
    "print('pi(小數點後五位)={:.5f}'.format(math.pi))"
   ]
  },
  {
   "cell_type": "code",
   "execution_count": null,
   "metadata": {},
   "outputs": [],
   "source": []
  }
 ],
 "metadata": {
  "kernelspec": {
   "display_name": "Python 3",
   "language": "python",
   "name": "python3"
  },
  "language_info": {
   "codemirror_mode": {
    "name": "ipython",
    "version": 3
   },
   "file_extension": ".py",
   "mimetype": "text/x-python",
   "name": "python",
   "nbconvert_exporter": "python",
   "pygments_lexer": "ipython3",
   "version": "3.7.0"
  }
 },
 "nbformat": 4,
 "nbformat_minor": 2
}
